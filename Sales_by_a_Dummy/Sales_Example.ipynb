{
 "cells": [
  {
   "cell_type": "markdown",
   "id": "21b4f5d2",
   "metadata": {},
   "source": [
    "# Sales time series"
   ]
  },
  {
   "cell_type": "code",
   "execution_count": 1,
   "id": "460b789f",
   "metadata": {},
   "outputs": [],
   "source": [
    "# Processing the data\n",
    "import numpy as np\n",
    "import pandas as pd"
   ]
  },
  {
   "cell_type": "code",
   "execution_count": 23,
   "id": "822dcad8-4d3b-4e64-947b-248e7f4cdbab",
   "metadata": {},
   "outputs": [],
   "source": [
    "# New imports"
   ]
  },
  {
   "cell_type": "code",
   "execution_count": 2,
   "id": "034860e6",
   "metadata": {},
   "outputs": [],
   "source": [
    "pd.set_option('max_columns', None)\n",
    "pd.set_option('max_colwidth', None)\n",
    "pd.set_option('display.max_rows', None)"
   ]
  },
  {
   "cell_type": "markdown",
   "id": "bc962b14",
   "metadata": {},
   "source": [
    "## Load and explore dataset"
   ]
  },
  {
   "cell_type": "code",
   "execution_count": 4,
   "id": "8ad92735",
   "metadata": {},
   "outputs": [],
   "source": [
    "df = pd.read_csv('sales_dataset.csv')"
   ]
  },
  {
   "cell_type": "code",
   "execution_count": 5,
   "id": "fcd5c454-e8f3-4272-9fd5-43a052d5a85a",
   "metadata": {},
   "outputs": [
    {
     "data": {
      "text/html": [
       "<div>\n",
       "<style scoped>\n",
       "    .dataframe tbody tr th:only-of-type {\n",
       "        vertical-align: middle;\n",
       "    }\n",
       "\n",
       "    .dataframe tbody tr th {\n",
       "        vertical-align: top;\n",
       "    }\n",
       "\n",
       "    .dataframe thead th {\n",
       "        text-align: right;\n",
       "    }\n",
       "</style>\n",
       "<table border=\"1\" class=\"dataframe\">\n",
       "  <thead>\n",
       "    <tr style=\"text-align: right;\">\n",
       "      <th></th>\n",
       "      <th>Date</th>\n",
       "      <th>TV</th>\n",
       "      <th>Radio</th>\n",
       "      <th>Banners</th>\n",
       "      <th>Sales</th>\n",
       "    </tr>\n",
       "  </thead>\n",
       "  <tbody>\n",
       "    <tr>\n",
       "      <th>0</th>\n",
       "      <td>2018-01-07</td>\n",
       "      <td>13528.1</td>\n",
       "      <td>0.00</td>\n",
       "      <td>0.00</td>\n",
       "      <td>9779.80</td>\n",
       "    </tr>\n",
       "    <tr>\n",
       "      <th>1</th>\n",
       "      <td>2018-01-14</td>\n",
       "      <td>0.0</td>\n",
       "      <td>5349.65</td>\n",
       "      <td>2218.93</td>\n",
       "      <td>13245.19</td>\n",
       "    </tr>\n",
       "    <tr>\n",
       "      <th>2</th>\n",
       "      <td>2018-01-21</td>\n",
       "      <td>0.0</td>\n",
       "      <td>4235.86</td>\n",
       "      <td>2046.96</td>\n",
       "      <td>12022.66</td>\n",
       "    </tr>\n",
       "    <tr>\n",
       "      <th>3</th>\n",
       "      <td>2018-01-28</td>\n",
       "      <td>0.0</td>\n",
       "      <td>3562.21</td>\n",
       "      <td>0.00</td>\n",
       "      <td>8846.95</td>\n",
       "    </tr>\n",
       "    <tr>\n",
       "      <th>4</th>\n",
       "      <td>2018-02-04</td>\n",
       "      <td>0.0</td>\n",
       "      <td>0.00</td>\n",
       "      <td>2187.29</td>\n",
       "      <td>9797.07</td>\n",
       "    </tr>\n",
       "  </tbody>\n",
       "</table>\n",
       "</div>"
      ],
      "text/plain": [
       "         Date       TV    Radio  Banners     Sales\n",
       "0  2018-01-07  13528.1     0.00     0.00   9779.80\n",
       "1  2018-01-14      0.0  5349.65  2218.93  13245.19\n",
       "2  2018-01-21      0.0  4235.86  2046.96  12022.66\n",
       "3  2018-01-28      0.0  3562.21     0.00   8846.95\n",
       "4  2018-02-04      0.0     0.00  2187.29   9797.07"
      ]
     },
     "execution_count": 5,
     "metadata": {},
     "output_type": "execute_result"
    }
   ],
   "source": [
    "df.head()"
   ]
  },
  {
   "cell_type": "code",
   "execution_count": 6,
   "id": "22564ed2-61aa-4763-bda5-68f5b5fae25a",
   "metadata": {},
   "outputs": [
    {
     "data": {
      "text/plain": [
       "Date       0\n",
       "TV         0\n",
       "Radio      0\n",
       "Banners    0\n",
       "Sales      0\n",
       "dtype: int64"
      ]
     },
     "execution_count": 6,
     "metadata": {},
     "output_type": "execute_result"
    }
   ],
   "source": [
    "df.isnull().sum()"
   ]
  },
  {
   "cell_type": "code",
   "execution_count": 7,
   "id": "6d9586f6-c58d-46b2-8d01-61c9f84fe310",
   "metadata": {},
   "outputs": [
    {
     "name": "stdout",
     "output_type": "stream",
     "text": [
      "<class 'pandas.core.frame.DataFrame'>\n",
      "RangeIndex: 200 entries, 0 to 199\n",
      "Data columns (total 5 columns):\n",
      " #   Column   Non-Null Count  Dtype  \n",
      "---  ------   --------------  -----  \n",
      " 0   Date     200 non-null    object \n",
      " 1   TV       200 non-null    float64\n",
      " 2   Radio    200 non-null    float64\n",
      " 3   Banners  200 non-null    float64\n",
      " 4   Sales    200 non-null    float64\n",
      "dtypes: float64(4), object(1)\n",
      "memory usage: 7.9+ KB\n"
     ]
    }
   ],
   "source": [
    "df.info()"
   ]
  },
  {
   "cell_type": "code",
   "execution_count": 8,
   "id": "194a4288-00c7-427f-b443-ff07d51f4cb9",
   "metadata": {},
   "outputs": [
    {
     "name": "stderr",
     "output_type": "stream",
     "text": [
      "/Users/anieto/miniconda3/envs/tda/lib/python3.7/site-packages/ipykernel_launcher.py:7: FutureWarning: Series.dt.weekofyear and Series.dt.week have been deprecated.  Please use Series.dt.isocalendar().week instead.\n",
      "  import sys\n"
     ]
    }
   ],
   "source": [
    "# Cambiamos el tipo de dato de la fecha para poder trabajarla\n",
    "\n",
    "df['Date'] = pd.to_datetime(df['Date'])\n",
    "\n",
    "#Creamos algunas auxiliares para poder resumir la información\n",
    "\n",
    "df['week'] = df['Date'].dt.week\n",
    "df['year'] = df['Date'].dt.year\n",
    "df['year_week'] = df['Date'].dt.strftime('%Y-%V')"
   ]
  },
  {
   "cell_type": "code",
   "execution_count": 22,
   "id": "11a0073d-fa75-48a8-ad9d-1fd8770b7034",
   "metadata": {},
   "outputs": [
    {
     "data": {
      "text/plain": [
       "<AxesSubplot:xlabel='Date'>"
      ]
     },
     "execution_count": 22,
     "metadata": {},
     "output_type": "execute_result"
    },
    {
     "data": {
      "image/png": "[encoded data removed]",
      "text/plain": [
       "<Figure size 792x432 with 1 Axes>"
      ]
     },
     "metadata": {
      "needs_background": "light"
     },
     "output_type": "display_data"
    }
   ],
   "source": [
    "df.groupby('Date')['Sales'].sum().plot( y= 'Sales', figsize=(11,6))\n",
    "df.groupby('Date')['Banners'].sum().plot(y='Spend', figsize=(11,6))\n",
    "#df.groupby('Date')['Radio'].sum().plot(y='Radio Spend', figsize=(11,6))\n",
    "#df.groupby('Date')['TV'].sum().plot(y='TV Spend', figsize=(11,6))"
   ]
  },
  {
   "cell_type": "code",
   "execution_count": null,
   "id": "66697894-f78d-4065-b5d9-117dba2e09f3",
   "metadata": {},
   "outputs": [],
   "source": []
  },
  {
   "cell_type": "code",
   "execution_count": 35,
   "id": "7c9d9cfd",
   "metadata": {},
   "outputs": [
    {
     "data": {
      "text/plain": [
       "<AxesSubplot:xlabel='year_week'>"
      ]
     },
     "execution_count": 35,
     "metadata": {},
     "output_type": "execute_result"
    },
    {
     "data": {
      "image/png": "[encoded data removed]",
      "text/plain": [
       "<Figure size 720x720 with 1 Axes>"
      ]
     },
     "metadata": {
      "needs_background": "light"
     },
     "output_type": "display_data"
    }
   ],
   "source": [
    "pato[pato['Attrition'] == 'Yes'].groupby('EmployeeNumber')[['Recived_at','year_week']].max().reset_index().groupby('year_week').count().reset_index().plot(x='year_week',y='EmployeeNumber', figsize=(10,10))"
   ]
  },
  {
   "cell_type": "code",
   "execution_count": 34,
   "id": "55a789fd",
   "metadata": {},
   "outputs": [],
   "source": [
    "#headcount\n",
    "pato.groupby('EmployeeNumber')[['Recived_at','year_week']].max().reset_index().groupby('year_week').count().reset_index().head()"
   ]
  },
  {
   "cell_type": "code",
   "execution_count": null,
   "id": "04e0c501",
   "metadata": {},
   "outputs": [],
   "source": []
  },
  {
   "cell_type": "code",
   "execution_count": 6,
   "id": "75f0105b",
   "metadata": {},
   "outputs": [],
   "source": [
    "rf = RandomForestClassifier(max_depth=12, \n",
    "                            max_features=11, \n",
    "                            n_estimators=180, \n",
    "                            random_state=2021, \n",
    "                            n_jobs=-1)\n",
    "\n",
    "cat_pipe = ColumnTransformer([('ordinal_encoder', OrdinalEncoder(), categorical_attributes)],\n",
    "                             remainder='passthrough')\n",
    "\n",
    "pipe_model = Pipeline([\n",
    "      ('encoder', cat_pipe),\n",
    "      ('classification', rf )\n",
    "    ])"
   ]
  },
  {
   "cell_type": "code",
   "execution_count": 9,
   "id": "bc7f49b3",
   "metadata": {},
   "outputs": [],
   "source": [
    "x_train, x_test, y_train, y_test = train_test_split(x,y, \n",
    "                                                    random_state=2022, \n",
    "                                                    test_size=0.2,\n",
    "                                                    stratify =y)"
   ]
  },
  {
   "cell_type": "code",
   "execution_count": 10,
   "id": "73306297",
   "metadata": {},
   "outputs": [
    {
     "name": "stdout",
     "output_type": "stream",
     "text": [
      "Accuracy Score of Random Forest Classifier is:  0.9116279069767442\n",
      "Recall Score of Random Forest Classifier Model is:  0.9157894736842105\n"
     ]
    }
   ],
   "source": [
    "pipe_model.fit(x_train, y_train)\n",
    "y_pred = pipe_model.predict(x_test)\n",
    "\n",
    "print('Accuracy Score of Random Forest Classifier is: ', metrics.accuracy_score(y_test, y_pred))\n",
    "print('Recall Score of Random Forest Classifier Model is: ', metrics.recall_score(y_test, y_pred))"
   ]
  },
  {
   "cell_type": "code",
   "execution_count": 11,
   "id": "efe3a4dc",
   "metadata": {},
   "outputs": [
    {
     "name": "stdout",
     "output_type": "stream",
     "text": [
      "              precision    recall  f1-score   support\n",
      "\n",
      "           0       0.93      0.91      0.92       120\n",
      "           1       0.89      0.92      0.90        95\n",
      "\n",
      "    accuracy                           0.91       215\n",
      "   macro avg       0.91      0.91      0.91       215\n",
      "weighted avg       0.91      0.91      0.91       215\n",
      "\n"
     ]
    }
   ],
   "source": [
    "print(metrics.classification_report(y_test, y_pred))"
   ]
  },
  {
   "cell_type": "markdown",
   "id": "7193c574",
   "metadata": {},
   "source": [
    "## Generate Dataset with  score column"
   ]
  },
  {
   "cell_type": "code",
   "execution_count": 14,
   "id": "8525e9e6",
   "metadata": {},
   "outputs": [],
   "source": [
    "hrdata[\"turnover_score\"] = pipe_model.predict_proba(hrdata[val_cols])[:,1] # "
   ]
  },
  {
   "cell_type": "code",
   "execution_count": 30,
   "id": "a5265cf0",
   "metadata": {},
   "outputs": [
    {
     "data": {
      "text/html": [
       "<div>\n",
       "<style scoped>\n",
       "    .dataframe tbody tr th:only-of-type {\n",
       "        vertical-align: middle;\n",
       "    }\n",
       "\n",
       "    .dataframe tbody tr th {\n",
       "        vertical-align: top;\n",
       "    }\n",
       "\n",
       "    .dataframe thead th {\n",
       "        text-align: right;\n",
       "    }\n",
       "</style>\n",
       "<table border=\"1\" class=\"dataframe\">\n",
       "  <thead>\n",
       "    <tr style=\"text-align: right;\">\n",
       "      <th></th>\n",
       "      <th>EmployeeNumber</th>\n",
       "      <th>turnover_score</th>\n",
       "    </tr>\n",
       "  </thead>\n",
       "  <tbody>\n",
       "    <tr>\n",
       "      <th>0</th>\n",
       "      <td>1</td>\n",
       "      <td>0.829019</td>\n",
       "    </tr>\n",
       "    <tr>\n",
       "      <th>1</th>\n",
       "      <td>2</td>\n",
       "      <td>0.290120</td>\n",
       "    </tr>\n",
       "  </tbody>\n",
       "</table>\n",
       "</div>"
      ],
      "text/plain": [
       "   EmployeeNumber  turnover_score\n",
       "0               1        0.829019\n",
       "1               2        0.290120"
      ]
     },
     "execution_count": 30,
     "metadata": {},
     "output_type": "execute_result"
    }
   ],
   "source": [
    "hrdata[['EmployeeNumber','turnover_score']].head(2)"
   ]
  },
  {
   "cell_type": "markdown",
   "id": "c1307a46",
   "metadata": {},
   "source": [
    "## Save model"
   ]
  },
  {
   "cell_type": "code",
   "execution_count": 16,
   "id": "608776c5",
   "metadata": {},
   "outputs": [
    {
     "data": {
      "text/plain": [
       "['clf.model']"
      ]
     },
     "execution_count": 16,
     "metadata": {},
     "output_type": "execute_result"
    }
   ],
   "source": [
    "joblib.dump(pipe_model, 'clf.model')"
   ]
  },
  {
   "cell_type": "markdown",
   "id": "df482bec",
   "metadata": {},
   "source": [
    "## Load Model"
   ]
  },
  {
   "cell_type": "code",
   "execution_count": 17,
   "id": "cccb8174",
   "metadata": {},
   "outputs": [],
   "source": [
    "clf = joblib.load('clf.model')"
   ]
  },
  {
   "cell_type": "markdown",
   "id": "5f3a7fe6",
   "metadata": {},
   "source": [
    "### Create a record for testing"
   ]
  },
  {
   "cell_type": "code",
   "execution_count": 18,
   "id": "24f085b4",
   "metadata": {},
   "outputs": [],
   "source": [
    "hrdata2 = pd.read_csv('HR_Employee_Attrition.csv')"
   ]
  },
  {
   "cell_type": "code",
   "execution_count": 19,
   "id": "df411203",
   "metadata": {},
   "outputs": [],
   "source": [
    "collaborator_rn = np.random.choice(range(1,hrdata2.shape[1]))"
   ]
  },
  {
   "cell_type": "code",
   "execution_count": 20,
   "id": "1e5b438d",
   "metadata": {},
   "outputs": [],
   "source": [
    "collaborator = pd.DataFrame(hrdata2.iloc[collaborator_rn,:]).T"
   ]
  },
  {
   "cell_type": "code",
   "execution_count": 21,
   "id": "ce4533cd",
   "metadata": {},
   "outputs": [],
   "source": [
    "collaborator.drop(columns=['EmployeeCount', \n",
    "                           'Attrition',\n",
    "                           'JobLevel', \n",
    "                           'Over18',\n",
    "                           'StandardHours', \n",
    "                           'TotalWorkingYears'], inplace=True)"
   ]
  },
  {
   "cell_type": "markdown",
   "id": "7a931782",
   "metadata": {},
   "source": [
    "### Generate json example using original dataset"
   ]
  },
  {
   "cell_type": "code",
   "execution_count": 22,
   "id": "49b4a28d",
   "metadata": {},
   "outputs": [
    {
     "data": {
      "text/plain": [
       "'[{\"Age\":39,\"BusinessTravel\":\"Travel_Rarely\",\"DailyRate\":895,\"Department\":\"Sales\",\"DistanceFromHome\":5,\"Education\":3,\"EducationField\":\"Technical Degree\",\"EmployeeNumber\":42,\"EnvironmentSatisfaction\":4,\"Gender\":\"Male\",\"HourlyRate\":56,\"JobInvolvement\":3,\"JobRole\":\"Sales Representative\",\"JobSatisfaction\":4,\"MaritalStatus\":\"Married\",\"MonthlyIncome\":2086,\"MonthlyRate\":3335,\"NumCompaniesWorked\":3,\"OverTime\":\"No\",\"PercentSalaryHike\":14,\"PerformanceRating\":3,\"RelationshipSatisfaction\":3,\"StockOptionLevel\":1,\"TrainingTimesLastYear\":6,\"WorkLifeBalance\":4,\"YearsAtCompany\":1,\"YearsInCurrentRole\":0,\"YearsSinceLastPromotion\":0,\"YearsWithCurrManager\":0}]'"
      ]
     },
     "execution_count": 22,
     "metadata": {},
     "output_type": "execute_result"
    }
   ],
   "source": [
    "collaborator.to_json(orient=\"records\")"
   ]
  },
  {
   "cell_type": "code",
   "execution_count": 23,
   "id": "75ccfc2f",
   "metadata": {},
   "outputs": [],
   "source": [
    "request = collaborator.to_json(orient=\"records\")"
   ]
  },
  {
   "cell_type": "markdown",
   "id": "85149a12",
   "metadata": {},
   "source": [
    "### Create a new json example, not in the original dataset, for testing"
   ]
  },
  {
   "cell_type": "code",
   "execution_count": 24,
   "id": "6d42bd6e",
   "metadata": {},
   "outputs": [],
   "source": [
    "example = {\"Age\":37,  \n",
    "           \"BusinessTravel\":\"Travel_Frequently\",  \n",
    "           \"DailyRate\":29, \n",
    "           \"Department\":\"Research & Development\", \n",
    "           \"DistanceFromHome\":12, \n",
    "           \"Education\":3,  \n",
    "           \"EducationField\":\"Life Sciences\",  \n",
    "           \"EmployeeNumber\":23333999,  \n",
    "           \"EnvironmentSatisfaction\":13,  \n",
    "           \"Gender\":\"Male\",  \n",
    "           \"HourlyRate\":61,  \n",
    "           \"JobInvolvement\":2,  \n",
    "           \"JobRole\":\"Research Scientist\",  \n",
    "           \"JobSatisfaction\":2,  \n",
    "           \"MaritalStatus\":\"Married\",  \n",
    "           \"MonthlyIncome\":5130,  \n",
    "           \"MonthlyRate\":24907, \n",
    "           \"NumCompaniesWorked\":1, \n",
    "           \"OverTime\":\"No\", \n",
    "           \"PercentSalaryHike\":23, \n",
    "           \"PerformanceRating\":4, \n",
    "           \"RelationshipSatisfaction\":4,  \n",
    "           \"StockOptionLevel\":1,  \n",
    "           \"TrainingTimesLastYear\":3,  \n",
    "           \"WorkLifeBalance\":3,  \n",
    "           \"YearsAtCompany\":10,  \n",
    "           \"YearsInCurrentRole\":1,  \n",
    "           \"YearsSinceLastPromotion\":1,  \n",
    "           \"YearsWithCurrManager\":1}"
   ]
  },
  {
   "cell_type": "code",
   "execution_count": 25,
   "id": "0ea99ae6",
   "metadata": {},
   "outputs": [],
   "source": [
    "new_example = json.dumps(example)"
   ]
  },
  {
   "cell_type": "code",
   "execution_count": 26,
   "id": "4417e0cb",
   "metadata": {},
   "outputs": [
    {
     "data": {
      "text/plain": [
       "'{\"Age\": 37, \"BusinessTravel\": \"Travel_Frequently\", \"DailyRate\": 29, \"Department\": \"Research & Development\", \"DistanceFromHome\": 12, \"Education\": 3, \"EducationField\": \"Life Sciences\", \"EmployeeNumber\": 23333999, \"EnvironmentSatisfaction\": 13, \"Gender\": \"Male\", \"HourlyRate\": 61, \"JobInvolvement\": 2, \"JobRole\": \"Research Scientist\", \"JobSatisfaction\": 2, \"MaritalStatus\": \"Married\", \"MonthlyIncome\": 5130, \"MonthlyRate\": 24907, \"NumCompaniesWorked\": 1, \"OverTime\": \"No\", \"PercentSalaryHike\": 23, \"PerformanceRating\": 4, \"RelationshipSatisfaction\": 4, \"StockOptionLevel\": 1, \"TrainingTimesLastYear\": 3, \"WorkLifeBalance\": 3, \"YearsAtCompany\": 10, \"YearsInCurrentRole\": 1, \"YearsSinceLastPromotion\": 1, \"YearsWithCurrManager\": 1}'"
      ]
     },
     "execution_count": 26,
     "metadata": {},
     "output_type": "execute_result"
    }
   ],
   "source": [
    "new_example"
   ]
  },
  {
   "cell_type": "markdown",
   "id": "92d22512",
   "metadata": {},
   "source": [
    "### Use the example from the dataset or the new example to test prediction"
   ]
  },
  {
   "cell_type": "code",
   "execution_count": 27,
   "id": "7f863efc",
   "metadata": {},
   "outputs": [],
   "source": [
    "# Use an existing example in the dataset:\n",
    "#data = json.loads(request)\n",
    "\n",
    "# Use the new example:\n",
    "data = json.loads(new_example)"
   ]
  },
  {
   "cell_type": "code",
   "execution_count": 28,
   "id": "48795191",
   "metadata": {},
   "outputs": [],
   "source": [
    "def hr_predict(request):\n",
    "    df = pd.DataFrame([request])\n",
    "    ID = df['EmployeeNumber'][0]\n",
    "    df.drop(columns=['EmployeeNumber'], inplace=True)\n",
    "    prediction = clf.predict_proba(df)\n",
    "    output = {'ID': ID , 'prediction': list(prediction[:,1])[0]}\n",
    "    return output"
   ]
  },
  {
   "cell_type": "code",
   "execution_count": 29,
   "id": "ef74097d",
   "metadata": {},
   "outputs": [
    {
     "data": {
      "text/plain": [
       "{'ID': 23333999, 'prediction': 0.3669442821144328}"
      ]
     },
     "execution_count": 29,
     "metadata": {},
     "output_type": "execute_result"
    }
   ],
   "source": [
    "hr_predict(data)"
   ]
  },
  {
   "cell_type": "markdown",
   "id": "0b960d99",
   "metadata": {},
   "source": [
    "> This is the prediction output for a new input data corresponding to a new collaborator."
   ]
  },
  {
   "cell_type": "code",
   "execution_count": 173,
   "id": "c2aaf1aa",
   "metadata": {},
   "outputs": [],
   "source": [
    "import numpy as np\n",
    "import matplotlib.pyplot as plt\n",
    "from scipy.stats import norm"
   ]
  },
  {
   "cell_type": "code",
   "execution_count": 194,
   "id": "6708cbd0",
   "metadata": {},
   "outputs": [],
   "source": [
    "#x-axis ranges from -3 and 3 with .001 steps\n",
    "x = np.arange(-100, 200, 0.01)"
   ]
  },
  {
   "cell_type": "code",
   "execution_count": 189,
   "id": "d6339fd6",
   "metadata": {},
   "outputs": [],
   "source": [
    "salarios = []\n",
    "for x in range(0,100):\n",
    "    y = np.random.randint(x,100)\n",
    "    salarios.append(y)"
   ]
  },
  {
   "cell_type": "code",
   "execution_count": 196,
   "id": "5cf5cd9d",
   "metadata": {},
   "outputs": [
    {
     "data": {
      "text/plain": [
       "(22.7631192941565, 74.02)"
      ]
     },
     "execution_count": 196,
     "metadata": {},
     "output_type": "execute_result"
    }
   ],
   "source": [
    "np.std(salarios), np.mean(salarios)"
   ]
  },
  {
   "cell_type": "code",
   "execution_count": 195,
   "id": "8e270b24",
   "metadata": {},
   "outputs": [
    {
     "data": {
      "text/plain": [
       "[<matplotlib.lines.Line2D at 0x7feb6cdead68>]"
      ]
     },
     "execution_count": 195,
     "metadata": {},
     "output_type": "execute_result"
    },
    {
     "data": {
      "image/png": "[encoded data removed]",
      "text/plain": [
       "<Figure size 432x288 with 1 Axes>"
      ]
     },
     "metadata": {
      "needs_background": "light"
     },
     "output_type": "display_data"
    }
   ],
   "source": [
    "#plot normal distribution with mean 0 and standard deviation 1\n",
    "plt.plot(x, norm.pdf(x, 60, 25))"
   ]
  },
  {
   "cell_type": "code",
   "execution_count": 202,
   "id": "8159e998",
   "metadata": {},
   "outputs": [
    {
     "data": {
      "text/plain": [
       "array([ 35.32412908,  34.28136809,  68.4899853 ,  65.61791587,\n",
       "        52.09974564,  90.82702045,  65.43858196, 131.2097908 ,\n",
       "        19.29668874,  16.8284796 ,  65.02296684, 139.97403351,\n",
       "        34.66273039,  48.54015002,  60.44744058,   7.45269612,\n",
       "       119.0378623 ,  69.68614471,  66.33623367,  92.57620424,\n",
       "        57.51260943,  14.05219619,  62.23796653,  34.43376589,\n",
       "        54.53321617, 129.21936003,  -6.98841857, 111.71139628,\n",
       "        97.27564651, 104.4519465 ,  35.47009138,  -9.19948819,\n",
       "        28.01563852, 121.03260823, 126.26557303, 118.09327219,\n",
       "       100.64989478,  41.61403101,  35.30874544, 111.7060152 ])"
      ]
     },
     "execution_count": 202,
     "metadata": {},
     "output_type": "execute_result"
    }
   ],
   "source": [
    "np.random.normal(60,45, 40)"
   ]
  },
  {
   "cell_type": "code",
   "execution_count": 201,
   "id": "51f52b82",
   "metadata": {},
   "outputs": [
    {
     "data": {
      "text/plain": [
       "25.410455309317385"
      ]
     },
     "execution_count": 201,
     "metadata": {},
     "output_type": "execute_result"
    }
   ],
   "source": [
    "np.std([ 77.00078014,  80.89514642,  22.80573242,  74.2405958 ,\n",
    "       123.43283089,   85.86467334, 113.02184221,\n",
    "        70.52484155,  56.3850444 , 104.55656085,\n",
    "        41.47505555,  49.70727112, \n",
    "        67.7062904 ,  85.78149146,  72.88415975,  97.72377072])"
   ]
  },
  {
   "cell_type": "code",
   "execution_count": null,
   "id": "59d83082",
   "metadata": {},
   "outputs": [],
   "source": []
  }
 ],
 "metadata": {
  "kernelspec": {
   "display_name": "Python 3 (ipykernel)",
   "language": "python",
   "name": "python3"
  },
  "language_info": {
   "codemirror_mode": {
    "name": "ipython",
    "version": 3
   },
   "file_extension": ".py",
   "mimetype": "text/x-python",
   "name": "python",
   "nbconvert_exporter": "python",
   "pygments_lexer": "ipython3",
   "version": "3.7.11"
  }
 },
 "nbformat": 4,
 "nbformat_minor": 5
}
